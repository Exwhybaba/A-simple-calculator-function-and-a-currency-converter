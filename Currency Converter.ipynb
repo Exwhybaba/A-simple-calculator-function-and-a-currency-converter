{
 "cells": [
  {
   "cell_type": "code",
   "execution_count": 2,
   "id": "8a4059e0",
   "metadata": {},
   "outputs": [],
   "source": [
    "allCurrency = ['Dollar', 'Dutch Mark', 'Pound', 'Peso', 'Rand',  'Kwacha',  'Cedis']"
   ]
  },
  {
   "cell_type": "code",
   "execution_count": 1,
   "id": "d5deb212",
   "metadata": {},
   "outputs": [],
   "source": [
    "def currencyConverter():\n",
    "    amount2Convert = float(input('Enter the amount to convert '))\n",
    "    fromCurrency = input('Convert from ').title()\n",
    "    toCurrency = input('Convert to ').title()\n",
    "    if fromCurrency == 'Dollar' and toCurrency == 'Dutch Mark':\n",
    "        res = amount2Convert * 1.82214\n",
    "    elif fromCurrency == 'Dollar' and toCurrency == 'Pound':\n",
    "        res = amount2Convert * 0.79317\n",
    "    elif fromCurrency == 'Dollar' and toCurrency== 'Peso':\n",
    "        res = amount2Convert * 52.4455\n",
    "    elif fromCurrency == 'Dollar' and toCurrency == 'Rand':\n",
    "        res = amount2Convert * 15.5729\n",
    "    elif fromCurrency == 'Dollar' and toCurrency == 'Kwacha':\n",
    "        res = amount2Convert * 17.2333\n",
    "    elif fromCurrency == 'Dollar' and toCurrency == 'Cedis':\n",
    "        res = amount2Convert * 7.80\n",
    "    elif fromCurrency == 'Dutch Mark' and toCurrency == 'Dollar':\n",
    "        res = amount2Convert * 0.55\n",
    "    elif fromCurrency == 'Dutch Mark' and toCurrency == 'Pound':\n",
    "        res = amount2Convert * 0.435524\n",
    "    elif fromCurrency == 'Dutch Mark' and toCurrency== 'Peso':\n",
    "        res = amount2Convert * 28.7366\n",
    "    elif fromCurrency == 'Dutch Mark' and toCurrency == 'Rand':\n",
    "        res = amount2Convert * 8.56402\n",
    "    elif fromCurrency == 'Dutch Mark' and toCurrency == 'Kwacha':\n",
    "        res = amount2Convert * 9.48672\n",
    "    elif fromCurrency == 'Dutch Mark' and toCurrency == 'Cedis':\n",
    "        res = amount2Convert * 4.189\n",
    "    elif fromCurrency == 'Pound' and toCurrency == 'Dollar':\n",
    "        res = amount2Convert * 1.26055\n",
    "    elif fromCurrency == 'Pound' and toCurrency == 'Dutch Mark':\n",
    "        res = amount2Convert * 2.30\n",
    "    elif fromCurrency == 'Pound' and toCurrency== 'Peso':\n",
    "        res = amount2Convert * 65.56\n",
    "    elif fromCurrency == 'Pound' and toCurrency == 'Rand':\n",
    "        res = amount2Convert * 19.46\n",
    "    elif fromCurrency == 'Pound' and toCurrency == 'Kwacha':\n",
    "        res = amount2Convert * 21.58\n",
    "    elif fromCurrency == 'Pound' and toCurrency == 'Cedis':\n",
    "        res = amount2Convert * 9.78  \n",
    "    elif fromCurrency == 'Peso' and toCurrency == 'Dollar':\n",
    "        res = amount2Convert * 0.019\n",
    "    elif fromCurrency == 'Peso' and toCurrency == 'Dutch Mark':\n",
    "        res = amount2Convert * 0.0347938\n",
    "    elif fromCurrency == 'Peso' and toCurrency== 'Pound':\n",
    "        res = amount2Convert * 0.015\n",
    "    elif fromCurrency == 'Peso' and toCurrency == 'Rand':\n",
    "        res = amount2Convert * 0.30\n",
    "    elif fromCurrency == 'Peso' and toCurrency == 'Kwacha':\n",
    "        res = amount2Convert * 0.33\n",
    "    elif fromCurrency == 'Peso' and toCurrency == 'Cedis':\n",
    "        res = amount2Convert * 0.15\n",
    "    elif fromCurrency == 'Rand' and toCurrency == 'Dollar':\n",
    "        res = amount2Convert * 0.064\n",
    "    elif fromCurrency == 'Rand' and toCurrency == 'Dutch Mark':\n",
    "        res = amount2Convert * 0.116617\n",
    "    elif fromCurrency == 'Rand' and toCurrency== 'Pound':\n",
    "        res = amount2Convert * 0.051\n",
    "    elif fromCurrency == 'Rand' and toCurrency == 'Peso':\n",
    "        res = amount2Convert * 3.36\n",
    "    elif fromCurrency == 'Rand' and toCurrency == 'Kwacha':\n",
    "        res = amount2Convert * 1.11\n",
    "    elif fromCurrency == 'Rand' and toCurrency == 'Cedis':\n",
    "        res = amount2Convert * 0.50\n",
    "    elif fromCurrency == 'Kwacha' and toCurrency == 'Dollar':\n",
    "        res = amount2Convert * 0.058\n",
    "    elif fromCurrency == 'Kwacha' and toCurrency == 'Dutch Mark':\n",
    "        res = amount2Convert * 0.106284\n",
    "    elif fromCurrency == 'Kwacha' and toCurrency== 'Pound':\n",
    "        res = amount2Convert * 0.046\n",
    "    elif fromCurrency == 'Kwacha' and toCurrency == 'Peso':\n",
    "        res = amount2Convert * 3.04\n",
    "    elif fromCurrency == 'Kwacha' and toCurrency == 'Rand':\n",
    "        res = amount2Convert * 0.90\n",
    "    elif fromCurrency == 'Kwacha' and toCurrency == 'Cedis':\n",
    "        res = amount2Convert * 0.45\n",
    "    elif fromCurrency == 'Cedis' and toCurrency == 'Dollar':\n",
    "        res = amount2Convert * 0.13\n",
    "    elif fromCurrency == 'Cedis' and toCurrency == 'Dutch Mark':\n",
    "        res = amount2Convert * 0.238721\n",
    "    elif fromCurrency == 'Cedis' and toCurrency== 'Pound':\n",
    "        res = amount2Convert * 0.10\n",
    "    elif fromCurrency == 'Cedis' and toCurrency == 'Peso':\n",
    "        res = amount2Convert * 6.69\n",
    "    elif fromCurrency == 'Cedis' and toCurrency == 'Rand':\n",
    "        res = amount2Convert * 1.99\n",
    "    elif fromCurrency == 'Cedis' and toCurrency == 'Kwacha':\n",
    "        res = amount2Convert * 2.20\n",
    "    else:\n",
    "        res = 'unidentified value'\n",
    "    return res"
   ]
  },
  {
   "cell_type": "code",
   "execution_count": 2,
   "id": "98106997",
   "metadata": {},
   "outputs": [
    {
     "name": "stdout",
     "output_type": "stream",
     "text": [
      "Enter the amount to convert 20\n",
      "Convert from rand\n",
      "Convert to dutch mark\n"
     ]
    },
    {
     "data": {
      "text/plain": [
       "2.33234"
      ]
     },
     "execution_count": 2,
     "metadata": {},
     "output_type": "execute_result"
    }
   ],
   "source": [
    "currencyConverter()"
   ]
  },
  {
   "cell_type": "code",
   "execution_count": 4,
   "id": "5b623b5f",
   "metadata": {},
   "outputs": [
    {
     "name": "stdout",
     "output_type": "stream",
     "text": [
      "Enter the amount to convert 50\n",
      "Convert from rand\n",
      "Convert to kwacha\n"
     ]
    },
    {
     "data": {
      "text/plain": [
       "55.50000000000001"
      ]
     },
     "execution_count": 4,
     "metadata": {},
     "output_type": "execute_result"
    }
   ],
   "source": [
    "currencyConverter()"
   ]
  },
  {
   "cell_type": "code",
   "execution_count": 5,
   "id": "6d5681f3",
   "metadata": {},
   "outputs": [
    {
     "name": "stdout",
     "output_type": "stream",
     "text": [
      "Enter the amount to convert 40\n",
      "Convert from paso\n",
      "Convert to dollar\n"
     ]
    },
    {
     "data": {
      "text/plain": [
       "'unidentified value'"
      ]
     },
     "execution_count": 5,
     "metadata": {},
     "output_type": "execute_result"
    }
   ],
   "source": [
    "currencyConverter()"
   ]
  },
  {
   "cell_type": "code",
   "execution_count": 6,
   "id": "49e9b58b",
   "metadata": {},
   "outputs": [
    {
     "name": "stdout",
     "output_type": "stream",
     "text": [
      "Enter the amount to convert 30\n",
      "Convert from peso\n",
      "Convert to dollar\n"
     ]
    },
    {
     "data": {
      "text/plain": [
       "0.57"
      ]
     },
     "execution_count": 6,
     "metadata": {},
     "output_type": "execute_result"
    }
   ],
   "source": [
    "currencyConverter()"
   ]
  },
  {
   "cell_type": "code",
   "execution_count": null,
   "id": "cf2aecb1",
   "metadata": {},
   "outputs": [],
   "source": [
    "currencyConverter()"
   ]
  },
  {
   "cell_type": "code",
   "execution_count": null,
   "id": "ba8dbdca",
   "metadata": {},
   "outputs": [],
   "source": []
  }
 ],
 "metadata": {
  "kernelspec": {
   "display_name": "Python 3 (ipykernel)",
   "language": "python",
   "name": "python3"
  },
  "language_info": {
   "codemirror_mode": {
    "name": "ipython",
    "version": 3
   },
   "file_extension": ".py",
   "mimetype": "text/x-python",
   "name": "python",
   "nbconvert_exporter": "python",
   "pygments_lexer": "ipython3",
   "version": "3.9.7"
  }
 },
 "nbformat": 4,
 "nbformat_minor": 5
}
